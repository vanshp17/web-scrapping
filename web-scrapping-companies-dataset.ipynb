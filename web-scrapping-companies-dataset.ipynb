{
 "cells": [
  {
   "cell_type": "markdown",
   "id": "57260ba7",
   "metadata": {},
   "source": [
    "# Web Scrapping"
   ]
  },
  {
   "cell_type": "code",
   "execution_count": 15,
   "id": "775df2f2",
   "metadata": {},
   "outputs": [],
   "source": [
    "import pandas as pd\n",
    "import numpy as np\n",
    "import requests\n",
    "from bs4 import BeautifulSoup"
   ]
  },
  {
   "cell_type": "code",
   "execution_count": null,
   "id": "521ba4bf",
   "metadata": {},
   "outputs": [],
   "source": []
  },
  {
   "cell_type": "markdown",
   "id": "558cdefc",
   "metadata": {},
   "source": [
    "# If response code : 403\n",
    " - headers={'User-Agent':'Mozilla/5.0 (Windows NT 6.3; Win 64 ; x64) Apple WeKit /537.36(KHTML , like Gecko) Chrome/80.0.3987.162 Safari/537.36'}\n",
    " -requests.get('url',headers=headers).text"
   ]
  },
  {
   "cell_type": "code",
   "execution_count": null,
   "id": "da4c4423",
   "metadata": {},
   "outputs": [],
   "source": []
  },
  {
   "cell_type": "code",
   "execution_count": 16,
   "id": "3138b2ac",
   "metadata": {},
   "outputs": [],
   "source": [
    "headers = {'User-Agent':'Mozilla/5.0 (Windows NT 6.3; Win 64 ; x64) Apple WeKit /537.36(KHTML , like Gecko) Chrome/80.0.3987.162 Safari/537.36'}\n",
    "url = 'https://www.ambitionbox.com/list-of-companies?campaign=desktop_nav&page=1'"
   ]
  },
  {
   "cell_type": "code",
   "execution_count": 17,
   "id": "9d7fde23",
   "metadata": {},
   "outputs": [],
   "source": [
    "webpage = requests.get( url, headers=headers).text"
   ]
  },
  {
   "cell_type": "code",
   "execution_count": 18,
   "id": "60b8f08c",
   "metadata": {},
   "outputs": [],
   "source": [
    "soup = BeautifulSoup(webpage,'lxml')"
   ]
  },
  {
   "cell_type": "code",
   "execution_count": null,
   "id": "bb7af757",
   "metadata": {},
   "outputs": [],
   "source": []
  },
  {
   "cell_type": "code",
   "execution_count": 19,
   "id": "a86edd6c",
   "metadata": {},
   "outputs": [],
   "source": [
    "#print(soup.prettify())"
   ]
  },
  {
   "cell_type": "code",
   "execution_count": 20,
   "id": "dc6e799b",
   "metadata": {},
   "outputs": [
    {
     "data": {
      "text/plain": [
       "'List of companies in India'"
      ]
     },
     "execution_count": 20,
     "metadata": {},
     "output_type": "execute_result"
    }
   ],
   "source": [
    "soup.find_all('h1')[0].text.strip()"
   ]
  },
  {
   "cell_type": "markdown",
   "id": "434d2b55",
   "metadata": {},
   "source": [
    "# To Find Out Names Of The Companies"
   ]
  },
  {
   "cell_type": "code",
   "execution_count": 21,
   "id": "d8dead6c",
   "metadata": {},
   "outputs": [
    {
     "name": "stdout",
     "output_type": "stream",
     "text": [
      "TCS\n",
      "Accenture\n",
      "Cognizant\n",
      "Wipro\n",
      "ICICI Bank\n",
      "HDFC Bank\n",
      "Infosys\n",
      "Capgemini\n",
      "Tech Mahindra\n",
      "HCLTech\n",
      "Genpact\n",
      "Axis Bank\n",
      "Concentrix Corporation\n",
      "Amazon\n",
      "IBM\n",
      "Reliance Jio\n",
      "Larsen & Toubro Limited\n",
      "HDB Financial Services\n",
      "Reliance Retail\n",
      "Teleperformance\n"
     ]
    }
   ],
   "source": [
    "for i in soup.find_all('h2',class_= 'companyCardWrapper__companyName'):\n",
    "    print(i.text.strip())"
   ]
  },
  {
   "cell_type": "markdown",
   "id": "e9ceb93b",
   "metadata": {},
   "source": [
    "# To Find Out The Ratings"
   ]
  },
  {
   "cell_type": "code",
   "execution_count": 22,
   "id": "5b0decc1",
   "metadata": {
    "scrolled": true
   },
   "outputs": [
    {
     "name": "stdout",
     "output_type": "stream",
     "text": [
      "3.8\n",
      "4.1\n",
      "3.9\n",
      "3.8\n",
      "4.0\n",
      "3.9\n",
      "3.9\n",
      "3.9\n",
      "3.7\n",
      "3.7\n",
      "4.0\n",
      "3.8\n",
      "3.9\n",
      "4.2\n",
      "4.1\n",
      "4.0\n",
      "4.0\n",
      "4.0\n",
      "3.9\n",
      "3.6\n"
     ]
    }
   ],
   "source": [
    "for i in soup.find_all('span',class_= 'companyCardWrapper__companyRatingValue'):\n",
    "    print(i.text)"
   ]
  },
  {
   "cell_type": "markdown",
   "id": "a211700b",
   "metadata": {},
   "source": [
    "# To Find Out How many Year Company Old"
   ]
  },
  {
   "cell_type": "code",
   "execution_count": 23,
   "id": "869311c5",
   "metadata": {},
   "outputs": [
    {
     "name": "stdout",
     "output_type": "stream",
     "text": [
      " 55\n",
      " 34\n",
      " 29\n",
      " 78\n",
      " 29\n",
      " 29\n",
      " 42\n",
      " 56\n",
      " 37\n",
      " 32\n",
      " 26\n",
      " 30\n",
      " 40\n",
      " 29\n",
      " 112\n",
      " 16\n",
      " 85\n",
      " 16\n",
      " 17\n",
      " 45\n"
     ]
    }
   ],
   "source": [
    "for i in soup.find_all('span',class_='companyCardWrapper__interLinking'):\n",
    "    for j in i :\n",
    "        print(j.text.strip().split('|')[-2].replace(' years old ',''))\n",
    "        "
   ]
  },
  {
   "cell_type": "markdown",
   "id": "23bdfd31",
   "metadata": {},
   "source": [
    "# To Find Out Location  "
   ]
  },
  {
   "cell_type": "code",
   "execution_count": 24,
   "id": "f967c839",
   "metadata": {},
   "outputs": [
    {
     "name": "stdout",
     "output_type": "stream",
     "text": [
      " Mumbai +281\n",
      " Dublin +141\n",
      " Teaneck. New Jersey. +111\n",
      " Bangalore/Bengaluru +243\n",
      " Mumbai +1183\n",
      " Mumbai +1413\n",
      " Bengaluru/Bangalore +135\n",
      " Paris +87\n",
      " Pune +232\n",
      " Noida +151\n",
      " New York +79\n",
      " Mumbai +1216\n",
      " Fremont +82\n",
      " Seattle +393\n",
      " Armonk +129\n",
      " Navi Mumbai +1084\n",
      " Mumbai +572\n",
      " Ahmedabad +884\n",
      " Navi Mumbai +884\n",
      " Paris +132\n"
     ]
    }
   ],
   "source": [
    "for i in soup.find_all('span',class_='companyCardWrapper__interLinking'):\n",
    "    for j in i :\n",
    "        print(j.text.strip().split('|')[-1].replace(' more',''))\n",
    "        "
   ]
  },
  {
   "cell_type": "markdown",
   "id": "8f063c6a",
   "metadata": {},
   "source": [
    " # To Find Out About "
   ]
  },
  {
   "cell_type": "code",
   "execution_count": 25,
   "id": "52099b22",
   "metadata": {},
   "outputs": [
    {
     "name": "stdout",
     "output_type": "stream",
     "text": [
      "IT Services & Consulting \n",
      "IT Services & Consulting \n",
      "IT Services & Consulting \n",
      "IT Services & Consulting \n",
      "Banking \n",
      "Banking \n",
      "IT Services & Consulting \n",
      "IT Services & Consulting \n",
      "IT Services & Consulting \n",
      "IT Services & Consulting \n",
      "IT Services & Consulting \n",
      "Banking \n",
      "BPO \n",
      "Internet \n",
      "Software Product \n",
      "Telecom \n",
      "Engineering & Construction \n",
      "NBFC \n",
      "Retail \n",
      "BPO \n"
     ]
    }
   ],
   "source": [
    "for i in soup.find_all('span',class_='companyCardWrapper__interLinking'):\n",
    "    print(i.text.strip().split('|')[0])"
   ]
  },
  {
   "cell_type": "code",
   "execution_count": null,
   "id": "ebd5c0ca",
   "metadata": {},
   "outputs": [],
   "source": []
  },
  {
   "cell_type": "code",
   "execution_count": null,
   "id": "bf95f58a",
   "metadata": {},
   "outputs": [],
   "source": []
  },
  {
   "cell_type": "markdown",
   "id": "0385c889",
   "metadata": {},
   "source": [
    "# Considering The Whole Container"
   ]
  },
  {
   "cell_type": "code",
   "execution_count": 26,
   "id": "70ebad9d",
   "metadata": {},
   "outputs": [],
   "source": [
    "company = soup.find_all('div',class_='companyCardWrapper')"
   ]
  },
  {
   "cell_type": "code",
   "execution_count": 27,
   "id": "697708e0",
   "metadata": {},
   "outputs": [
    {
     "data": {
      "text/plain": [
       "20"
      ]
     },
     "execution_count": 27,
     "metadata": {},
     "output_type": "execute_result"
    }
   ],
   "source": [
    "len(company)"
   ]
  },
  {
   "cell_type": "code",
   "execution_count": 28,
   "id": "28b445cf",
   "metadata": {},
   "outputs": [],
   "source": [
    "name = []\n",
    "rating = []\n",
    "year = []\n",
    "loc = []\n",
    "about = []\n",
    "emp = []\n",
    "review = []\n",
    "\n",
    "for i in company:\n",
    "    \n",
    "    name.append(i.find('h2').text.strip())\n",
    "    rating.append(i.find('span',class_='companyCardWrapper__companyRatingValue').text.strip())\n",
    "    year.append(i.find('span',class_='companyCardWrapper__interLinking').text.strip().split('|')[-2].replace(' years old ',''))\n",
    "    loc.append(i.find('span',class_='companyCardWrapper__interLinking').text.strip().split('|')[-1].replace(' more',''))\n",
    "    about.append(i.find('span',class_='companyCardWrapper__interLinking').text.strip().split('|')[-0])\n",
    "    emp.append(i.find('span',class_='companyCardWrapper__interLinking').text.strip().split('|')[1].replace(' Employees ',''))\n",
    "    review.append(i.find('span',class_='companyCardWrapper__ActionCount').text.strip().replace('k',' ').strip())\n",
    "    \n",
    "\n",
    "d = {\n",
    "    'Name': name,\n",
    "    'Rating': rating,\n",
    "    'Years': year,\n",
    "    'Locaton': loc,\n",
    "    'No of Employee': emp,\n",
    "    'About':about,\n",
    "    'Review': review\n",
    "}\n",
    "\n",
    "\n",
    "df = pd.DataFrame(d)"
   ]
  },
  {
   "cell_type": "code",
   "execution_count": 29,
   "id": "82690bea",
   "metadata": {},
   "outputs": [],
   "source": [
    "for i in company:\n",
    "    i.find('span',class_='companyCardWrapper__interLinking').text.strip().split('|')[-2]"
   ]
  },
  {
   "cell_type": "code",
   "execution_count": 30,
   "id": "ffdaaffd",
   "metadata": {},
   "outputs": [
    {
     "data": {
      "text/plain": [
       "20"
      ]
     },
     "execution_count": 30,
     "metadata": {},
     "output_type": "execute_result"
    }
   ],
   "source": [
    "len(year)"
   ]
  },
  {
   "cell_type": "code",
   "execution_count": 31,
   "id": "d092fd24",
   "metadata": {},
   "outputs": [
    {
     "data": {
      "text/html": [
       "<div>\n",
       "<style scoped>\n",
       "    .dataframe tbody tr th:only-of-type {\n",
       "        vertical-align: middle;\n",
       "    }\n",
       "\n",
       "    .dataframe tbody tr th {\n",
       "        vertical-align: top;\n",
       "    }\n",
       "\n",
       "    .dataframe thead th {\n",
       "        text-align: right;\n",
       "    }\n",
       "</style>\n",
       "<table border=\"1\" class=\"dataframe\">\n",
       "  <thead>\n",
       "    <tr style=\"text-align: right;\">\n",
       "      <th></th>\n",
       "      <th>Name</th>\n",
       "      <th>Rating</th>\n",
       "      <th>Years</th>\n",
       "      <th>Locaton</th>\n",
       "      <th>No of Employee</th>\n",
       "      <th>About</th>\n",
       "      <th>Review</th>\n",
       "    </tr>\n",
       "  </thead>\n",
       "  <tbody>\n",
       "    <tr>\n",
       "      <th>0</th>\n",
       "      <td>TCS</td>\n",
       "      <td>3.8</td>\n",
       "      <td>55</td>\n",
       "      <td>Mumbai +281</td>\n",
       "      <td>1 Lakh+</td>\n",
       "      <td>IT Services &amp; Consulting</td>\n",
       "      <td>62.3</td>\n",
       "    </tr>\n",
       "    <tr>\n",
       "      <th>1</th>\n",
       "      <td>Accenture</td>\n",
       "      <td>4.1</td>\n",
       "      <td>34</td>\n",
       "      <td>Dublin +141</td>\n",
       "      <td>1 Lakh+</td>\n",
       "      <td>IT Services &amp; Consulting</td>\n",
       "      <td>39.7</td>\n",
       "    </tr>\n",
       "    <tr>\n",
       "      <th>2</th>\n",
       "      <td>Cognizant</td>\n",
       "      <td>3.9</td>\n",
       "      <td>29</td>\n",
       "      <td>Teaneck. New Jersey. +111</td>\n",
       "      <td>1 Lakh+</td>\n",
       "      <td>IT Services &amp; Consulting</td>\n",
       "      <td>36.3</td>\n",
       "    </tr>\n",
       "    <tr>\n",
       "      <th>3</th>\n",
       "      <td>Wipro</td>\n",
       "      <td>3.8</td>\n",
       "      <td>78</td>\n",
       "      <td>Bangalore/Bengaluru +243</td>\n",
       "      <td>1 Lakh+</td>\n",
       "      <td>IT Services &amp; Consulting</td>\n",
       "      <td>29.9</td>\n",
       "    </tr>\n",
       "    <tr>\n",
       "      <th>4</th>\n",
       "      <td>ICICI Bank</td>\n",
       "      <td>4.0</td>\n",
       "      <td>29</td>\n",
       "      <td>Mumbai +1183</td>\n",
       "      <td>1 Lakh+</td>\n",
       "      <td>Banking</td>\n",
       "      <td>29.4</td>\n",
       "    </tr>\n",
       "    <tr>\n",
       "      <th>5</th>\n",
       "      <td>HDFC Bank</td>\n",
       "      <td>3.9</td>\n",
       "      <td>29</td>\n",
       "      <td>Mumbai +1413</td>\n",
       "      <td>1 Lakh+</td>\n",
       "      <td>Banking</td>\n",
       "      <td>28.9</td>\n",
       "    </tr>\n",
       "    <tr>\n",
       "      <th>6</th>\n",
       "      <td>Infosys</td>\n",
       "      <td>3.9</td>\n",
       "      <td>42</td>\n",
       "      <td>Bengaluru/Bangalore +135</td>\n",
       "      <td>1 Lakh+</td>\n",
       "      <td>IT Services &amp; Consulting</td>\n",
       "      <td>27.2</td>\n",
       "    </tr>\n",
       "    <tr>\n",
       "      <th>7</th>\n",
       "      <td>Capgemini</td>\n",
       "      <td>3.9</td>\n",
       "      <td>56</td>\n",
       "      <td>Paris +87</td>\n",
       "      <td>1 Lakh+</td>\n",
       "      <td>IT Services &amp; Consulting</td>\n",
       "      <td>25.2</td>\n",
       "    </tr>\n",
       "    <tr>\n",
       "      <th>8</th>\n",
       "      <td>Tech Mahindra</td>\n",
       "      <td>3.7</td>\n",
       "      <td>37</td>\n",
       "      <td>Pune +232</td>\n",
       "      <td>1 Lakh+</td>\n",
       "      <td>IT Services &amp; Consulting</td>\n",
       "      <td>23.7</td>\n",
       "    </tr>\n",
       "    <tr>\n",
       "      <th>9</th>\n",
       "      <td>HCLTech</td>\n",
       "      <td>3.7</td>\n",
       "      <td>32</td>\n",
       "      <td>Noida +151</td>\n",
       "      <td>1 Lakh+</td>\n",
       "      <td>IT Services &amp; Consulting</td>\n",
       "      <td>22.9</td>\n",
       "    </tr>\n",
       "    <tr>\n",
       "      <th>10</th>\n",
       "      <td>Genpact</td>\n",
       "      <td>4.0</td>\n",
       "      <td>26</td>\n",
       "      <td>New York +79</td>\n",
       "      <td>50k-1 Lakh</td>\n",
       "      <td>IT Services &amp; Consulting</td>\n",
       "      <td>22.9</td>\n",
       "    </tr>\n",
       "    <tr>\n",
       "      <th>11</th>\n",
       "      <td>Axis Bank</td>\n",
       "      <td>3.8</td>\n",
       "      <td>30</td>\n",
       "      <td>Mumbai +1216</td>\n",
       "      <td>50k-1 Lakh</td>\n",
       "      <td>Banking</td>\n",
       "      <td>19.5</td>\n",
       "    </tr>\n",
       "    <tr>\n",
       "      <th>12</th>\n",
       "      <td>Concentrix Corporation</td>\n",
       "      <td>3.9</td>\n",
       "      <td>40</td>\n",
       "      <td>Fremont +82</td>\n",
       "      <td>10k-50k</td>\n",
       "      <td>BPO</td>\n",
       "      <td>18.2</td>\n",
       "    </tr>\n",
       "    <tr>\n",
       "      <th>13</th>\n",
       "      <td>Amazon</td>\n",
       "      <td>4.2</td>\n",
       "      <td>29</td>\n",
       "      <td>Seattle +393</td>\n",
       "      <td>1 Lakh+</td>\n",
       "      <td>Internet</td>\n",
       "      <td>17.6</td>\n",
       "    </tr>\n",
       "    <tr>\n",
       "      <th>14</th>\n",
       "      <td>IBM</td>\n",
       "      <td>4.1</td>\n",
       "      <td>112</td>\n",
       "      <td>Armonk +129</td>\n",
       "      <td>50k-1 Lakh</td>\n",
       "      <td>Software Product</td>\n",
       "      <td>17.5</td>\n",
       "    </tr>\n",
       "    <tr>\n",
       "      <th>15</th>\n",
       "      <td>Reliance Jio</td>\n",
       "      <td>4.0</td>\n",
       "      <td>16</td>\n",
       "      <td>Navi Mumbai +1084</td>\n",
       "      <td>50k-1 Lakh</td>\n",
       "      <td>Telecom</td>\n",
       "      <td>17.5</td>\n",
       "    </tr>\n",
       "    <tr>\n",
       "      <th>16</th>\n",
       "      <td>Larsen &amp; Toubro Limited</td>\n",
       "      <td>4.0</td>\n",
       "      <td>85</td>\n",
       "      <td>Mumbai +572</td>\n",
       "      <td>1 Lakh+</td>\n",
       "      <td>Engineering &amp; Construction</td>\n",
       "      <td>16.6</td>\n",
       "    </tr>\n",
       "    <tr>\n",
       "      <th>17</th>\n",
       "      <td>HDB Financial Services</td>\n",
       "      <td>4.0</td>\n",
       "      <td>16</td>\n",
       "      <td>Ahmedabad +884</td>\n",
       "      <td>10k-50k</td>\n",
       "      <td>NBFC</td>\n",
       "      <td>15.6</td>\n",
       "    </tr>\n",
       "    <tr>\n",
       "      <th>18</th>\n",
       "      <td>Reliance Retail</td>\n",
       "      <td>3.9</td>\n",
       "      <td>17</td>\n",
       "      <td>Navi Mumbai +884</td>\n",
       "      <td>1 Lakh+</td>\n",
       "      <td>Retail</td>\n",
       "      <td>15.3</td>\n",
       "    </tr>\n",
       "    <tr>\n",
       "      <th>19</th>\n",
       "      <td>Teleperformance</td>\n",
       "      <td>3.6</td>\n",
       "      <td>45</td>\n",
       "      <td>Paris +132</td>\n",
       "      <td>10k-50k</td>\n",
       "      <td>BPO</td>\n",
       "      <td>14.7</td>\n",
       "    </tr>\n",
       "  </tbody>\n",
       "</table>\n",
       "</div>"
      ],
      "text/plain": [
       "                       Name Rating Years                     Locaton  \\\n",
       "0                       TCS    3.8    55                 Mumbai +281   \n",
       "1                 Accenture    4.1    34                 Dublin +141   \n",
       "2                 Cognizant    3.9    29   Teaneck. New Jersey. +111   \n",
       "3                     Wipro    3.8    78    Bangalore/Bengaluru +243   \n",
       "4                ICICI Bank    4.0    29                Mumbai +1183   \n",
       "5                 HDFC Bank    3.9    29                Mumbai +1413   \n",
       "6                   Infosys    3.9    42    Bengaluru/Bangalore +135   \n",
       "7                 Capgemini    3.9    56                   Paris +87   \n",
       "8             Tech Mahindra    3.7    37                   Pune +232   \n",
       "9                   HCLTech    3.7    32                  Noida +151   \n",
       "10                  Genpact    4.0    26                New York +79   \n",
       "11                Axis Bank    3.8    30                Mumbai +1216   \n",
       "12   Concentrix Corporation    3.9    40                 Fremont +82   \n",
       "13                   Amazon    4.2    29                Seattle +393   \n",
       "14                      IBM    4.1   112                 Armonk +129   \n",
       "15             Reliance Jio    4.0    16           Navi Mumbai +1084   \n",
       "16  Larsen & Toubro Limited    4.0    85                 Mumbai +572   \n",
       "17   HDB Financial Services    4.0    16              Ahmedabad +884   \n",
       "18          Reliance Retail    3.9    17            Navi Mumbai +884   \n",
       "19          Teleperformance    3.6    45                  Paris +132   \n",
       "\n",
       "   No of Employee                        About Review  \n",
       "0         1 Lakh+    IT Services & Consulting    62.3  \n",
       "1         1 Lakh+    IT Services & Consulting    39.7  \n",
       "2         1 Lakh+    IT Services & Consulting    36.3  \n",
       "3         1 Lakh+    IT Services & Consulting    29.9  \n",
       "4         1 Lakh+                     Banking    29.4  \n",
       "5         1 Lakh+                     Banking    28.9  \n",
       "6         1 Lakh+    IT Services & Consulting    27.2  \n",
       "7         1 Lakh+    IT Services & Consulting    25.2  \n",
       "8         1 Lakh+    IT Services & Consulting    23.7  \n",
       "9         1 Lakh+    IT Services & Consulting    22.9  \n",
       "10     50k-1 Lakh    IT Services & Consulting    22.9  \n",
       "11     50k-1 Lakh                     Banking    19.5  \n",
       "12        10k-50k                         BPO    18.2  \n",
       "13        1 Lakh+                    Internet    17.6  \n",
       "14     50k-1 Lakh            Software Product    17.5  \n",
       "15     50k-1 Lakh                     Telecom    17.5  \n",
       "16        1 Lakh+  Engineering & Construction    16.6  \n",
       "17        10k-50k                        NBFC    15.6  \n",
       "18        1 Lakh+                      Retail    15.3  \n",
       "19        10k-50k                         BPO    14.7  "
      ]
     },
     "execution_count": 31,
     "metadata": {},
     "output_type": "execute_result"
    }
   ],
   "source": [
    "df"
   ]
  },
  {
   "cell_type": "code",
   "execution_count": 32,
   "id": "88490b68",
   "metadata": {},
   "outputs": [
    {
     "data": {
      "text/plain": [
       "(20, 7)"
      ]
     },
     "execution_count": 32,
     "metadata": {},
     "output_type": "execute_result"
    }
   ],
   "source": [
    "df.shape"
   ]
  },
  {
   "cell_type": "code",
   "execution_count": null,
   "id": "abd15219",
   "metadata": {},
   "outputs": [],
   "source": []
  },
  {
   "cell_type": "code",
   "execution_count": null,
   "id": "bac9b8af",
   "metadata": {},
   "outputs": [
    {
     "name": "stderr",
     "output_type": "stream",
     "text": [
      "C:\\Users\\vansh\\AppData\\Local\\Temp\\ipykernel_11792\\1766758888.py:61: FutureWarning: The frame.append method is deprecated and will be removed from pandas in a future version. Use pandas.concat instead.\n",
      "  final=final.append(df,ignore_index=True)\n",
      "C:\\Users\\vansh\\AppData\\Local\\Temp\\ipykernel_11792\\1766758888.py:61: FutureWarning: The frame.append method is deprecated and will be removed from pandas in a future version. Use pandas.concat instead.\n",
      "  final=final.append(df,ignore_index=True)\n",
      "C:\\Users\\vansh\\AppData\\Local\\Temp\\ipykernel_11792\\1766758888.py:61: FutureWarning: The frame.append method is deprecated and will be removed from pandas in a future version. Use pandas.concat instead.\n",
      "  final=final.append(df,ignore_index=True)\n",
      "C:\\Users\\vansh\\AppData\\Local\\Temp\\ipykernel_11792\\1766758888.py:61: FutureWarning: The frame.append method is deprecated and will be removed from pandas in a future version. Use pandas.concat instead.\n",
      "  final=final.append(df,ignore_index=True)\n",
      "C:\\Users\\vansh\\AppData\\Local\\Temp\\ipykernel_11792\\1766758888.py:61: FutureWarning: The frame.append method is deprecated and will be removed from pandas in a future version. Use pandas.concat instead.\n",
      "  final=final.append(df,ignore_index=True)\n",
      "C:\\Users\\vansh\\AppData\\Local\\Temp\\ipykernel_11792\\1766758888.py:61: FutureWarning: The frame.append method is deprecated and will be removed from pandas in a future version. Use pandas.concat instead.\n",
      "  final=final.append(df,ignore_index=True)\n",
      "C:\\Users\\vansh\\AppData\\Local\\Temp\\ipykernel_11792\\1766758888.py:61: FutureWarning: The frame.append method is deprecated and will be removed from pandas in a future version. Use pandas.concat instead.\n",
      "  final=final.append(df,ignore_index=True)\n",
      "C:\\Users\\vansh\\AppData\\Local\\Temp\\ipykernel_11792\\1766758888.py:61: FutureWarning: The frame.append method is deprecated and will be removed from pandas in a future version. Use pandas.concat instead.\n",
      "  final=final.append(df,ignore_index=True)\n",
      "C:\\Users\\vansh\\AppData\\Local\\Temp\\ipykernel_11792\\1766758888.py:61: FutureWarning: The frame.append method is deprecated and will be removed from pandas in a future version. Use pandas.concat instead.\n",
      "  final=final.append(df,ignore_index=True)\n",
      "C:\\Users\\vansh\\AppData\\Local\\Temp\\ipykernel_11792\\1766758888.py:61: FutureWarning: The frame.append method is deprecated and will be removed from pandas in a future version. Use pandas.concat instead.\n",
      "  final=final.append(df,ignore_index=True)\n",
      "C:\\Users\\vansh\\AppData\\Local\\Temp\\ipykernel_11792\\1766758888.py:61: FutureWarning: The frame.append method is deprecated and will be removed from pandas in a future version. Use pandas.concat instead.\n",
      "  final=final.append(df,ignore_index=True)\n",
      "C:\\Users\\vansh\\AppData\\Local\\Temp\\ipykernel_11792\\1766758888.py:61: FutureWarning: The frame.append method is deprecated and will be removed from pandas in a future version. Use pandas.concat instead.\n",
      "  final=final.append(df,ignore_index=True)\n",
      "C:\\Users\\vansh\\AppData\\Local\\Temp\\ipykernel_11792\\1766758888.py:61: FutureWarning: The frame.append method is deprecated and will be removed from pandas in a future version. Use pandas.concat instead.\n",
      "  final=final.append(df,ignore_index=True)\n",
      "C:\\Users\\vansh\\AppData\\Local\\Temp\\ipykernel_11792\\1766758888.py:61: FutureWarning: The frame.append method is deprecated and will be removed from pandas in a future version. Use pandas.concat instead.\n",
      "  final=final.append(df,ignore_index=True)\n",
      "C:\\Users\\vansh\\AppData\\Local\\Temp\\ipykernel_11792\\1766758888.py:61: FutureWarning: The frame.append method is deprecated and will be removed from pandas in a future version. Use pandas.concat instead.\n",
      "  final=final.append(df,ignore_index=True)\n",
      "C:\\Users\\vansh\\AppData\\Local\\Temp\\ipykernel_11792\\1766758888.py:61: FutureWarning: The frame.append method is deprecated and will be removed from pandas in a future version. Use pandas.concat instead.\n",
      "  final=final.append(df,ignore_index=True)\n",
      "C:\\Users\\vansh\\AppData\\Local\\Temp\\ipykernel_11792\\1766758888.py:61: FutureWarning: The frame.append method is deprecated and will be removed from pandas in a future version. Use pandas.concat instead.\n",
      "  final=final.append(df,ignore_index=True)\n",
      "C:\\Users\\vansh\\AppData\\Local\\Temp\\ipykernel_11792\\1766758888.py:61: FutureWarning: The frame.append method is deprecated and will be removed from pandas in a future version. Use pandas.concat instead.\n",
      "  final=final.append(df,ignore_index=True)\n",
      "C:\\Users\\vansh\\AppData\\Local\\Temp\\ipykernel_11792\\1766758888.py:61: FutureWarning: The frame.append method is deprecated and will be removed from pandas in a future version. Use pandas.concat instead.\n",
      "  final=final.append(df,ignore_index=True)\n",
      "C:\\Users\\vansh\\AppData\\Local\\Temp\\ipykernel_11792\\1766758888.py:61: FutureWarning: The frame.append method is deprecated and will be removed from pandas in a future version. Use pandas.concat instead.\n",
      "  final=final.append(df,ignore_index=True)\n",
      "C:\\Users\\vansh\\AppData\\Local\\Temp\\ipykernel_11792\\1766758888.py:61: FutureWarning: The frame.append method is deprecated and will be removed from pandas in a future version. Use pandas.concat instead.\n",
      "  final=final.append(df,ignore_index=True)\n",
      "C:\\Users\\vansh\\AppData\\Local\\Temp\\ipykernel_11792\\1766758888.py:61: FutureWarning: The frame.append method is deprecated and will be removed from pandas in a future version. Use pandas.concat instead.\n",
      "  final=final.append(df,ignore_index=True)\n",
      "C:\\Users\\vansh\\AppData\\Local\\Temp\\ipykernel_11792\\1766758888.py:61: FutureWarning: The frame.append method is deprecated and will be removed from pandas in a future version. Use pandas.concat instead.\n",
      "  final=final.append(df,ignore_index=True)\n",
      "C:\\Users\\vansh\\AppData\\Local\\Temp\\ipykernel_11792\\1766758888.py:61: FutureWarning: The frame.append method is deprecated and will be removed from pandas in a future version. Use pandas.concat instead.\n",
      "  final=final.append(df,ignore_index=True)\n",
      "C:\\Users\\vansh\\AppData\\Local\\Temp\\ipykernel_11792\\1766758888.py:61: FutureWarning: The frame.append method is deprecated and will be removed from pandas in a future version. Use pandas.concat instead.\n",
      "  final=final.append(df,ignore_index=True)\n",
      "C:\\Users\\vansh\\AppData\\Local\\Temp\\ipykernel_11792\\1766758888.py:61: FutureWarning: The frame.append method is deprecated and will be removed from pandas in a future version. Use pandas.concat instead.\n",
      "  final=final.append(df,ignore_index=True)\n",
      "C:\\Users\\vansh\\AppData\\Local\\Temp\\ipykernel_11792\\1766758888.py:61: FutureWarning: The frame.append method is deprecated and will be removed from pandas in a future version. Use pandas.concat instead.\n",
      "  final=final.append(df,ignore_index=True)\n",
      "C:\\Users\\vansh\\AppData\\Local\\Temp\\ipykernel_11792\\1766758888.py:61: FutureWarning: The frame.append method is deprecated and will be removed from pandas in a future version. Use pandas.concat instead.\n",
      "  final=final.append(df,ignore_index=True)\n",
      "C:\\Users\\vansh\\AppData\\Local\\Temp\\ipykernel_11792\\1766758888.py:61: FutureWarning: The frame.append method is deprecated and will be removed from pandas in a future version. Use pandas.concat instead.\n",
      "  final=final.append(df,ignore_index=True)\n",
      "C:\\Users\\vansh\\AppData\\Local\\Temp\\ipykernel_11792\\1766758888.py:61: FutureWarning: The frame.append method is deprecated and will be removed from pandas in a future version. Use pandas.concat instead.\n",
      "  final=final.append(df,ignore_index=True)\n",
      "C:\\Users\\vansh\\AppData\\Local\\Temp\\ipykernel_11792\\1766758888.py:61: FutureWarning: The frame.append method is deprecated and will be removed from pandas in a future version. Use pandas.concat instead.\n",
      "  final=final.append(df,ignore_index=True)\n",
      "C:\\Users\\vansh\\AppData\\Local\\Temp\\ipykernel_11792\\1766758888.py:61: FutureWarning: The frame.append method is deprecated and will be removed from pandas in a future version. Use pandas.concat instead.\n",
      "  final=final.append(df,ignore_index=True)\n",
      "C:\\Users\\vansh\\AppData\\Local\\Temp\\ipykernel_11792\\1766758888.py:61: FutureWarning: The frame.append method is deprecated and will be removed from pandas in a future version. Use pandas.concat instead.\n",
      "  final=final.append(df,ignore_index=True)\n",
      "C:\\Users\\vansh\\AppData\\Local\\Temp\\ipykernel_11792\\1766758888.py:61: FutureWarning: The frame.append method is deprecated and will be removed from pandas in a future version. Use pandas.concat instead.\n",
      "  final=final.append(df,ignore_index=True)\n"
     ]
    },
    {
     "name": "stderr",
     "output_type": "stream",
     "text": [
      "C:\\Users\\vansh\\AppData\\Local\\Temp\\ipykernel_11792\\1766758888.py:61: FutureWarning: The frame.append method is deprecated and will be removed from pandas in a future version. Use pandas.concat instead.\n",
      "  final=final.append(df,ignore_index=True)\n",
      "C:\\Users\\vansh\\AppData\\Local\\Temp\\ipykernel_11792\\1766758888.py:61: FutureWarning: The frame.append method is deprecated and will be removed from pandas in a future version. Use pandas.concat instead.\n",
      "  final=final.append(df,ignore_index=True)\n",
      "C:\\Users\\vansh\\AppData\\Local\\Temp\\ipykernel_11792\\1766758888.py:61: FutureWarning: The frame.append method is deprecated and will be removed from pandas in a future version. Use pandas.concat instead.\n",
      "  final=final.append(df,ignore_index=True)\n",
      "C:\\Users\\vansh\\AppData\\Local\\Temp\\ipykernel_11792\\1766758888.py:61: FutureWarning: The frame.append method is deprecated and will be removed from pandas in a future version. Use pandas.concat instead.\n",
      "  final=final.append(df,ignore_index=True)\n",
      "C:\\Users\\vansh\\AppData\\Local\\Temp\\ipykernel_11792\\1766758888.py:61: FutureWarning: The frame.append method is deprecated and will be removed from pandas in a future version. Use pandas.concat instead.\n",
      "  final=final.append(df,ignore_index=True)\n",
      "C:\\Users\\vansh\\AppData\\Local\\Temp\\ipykernel_11792\\1766758888.py:61: FutureWarning: The frame.append method is deprecated and will be removed from pandas in a future version. Use pandas.concat instead.\n",
      "  final=final.append(df,ignore_index=True)\n",
      "C:\\Users\\vansh\\AppData\\Local\\Temp\\ipykernel_11792\\1766758888.py:61: FutureWarning: The frame.append method is deprecated and will be removed from pandas in a future version. Use pandas.concat instead.\n",
      "  final=final.append(df,ignore_index=True)\n",
      "C:\\Users\\vansh\\AppData\\Local\\Temp\\ipykernel_11792\\1766758888.py:61: FutureWarning: The frame.append method is deprecated and will be removed from pandas in a future version. Use pandas.concat instead.\n",
      "  final=final.append(df,ignore_index=True)\n",
      "C:\\Users\\vansh\\AppData\\Local\\Temp\\ipykernel_11792\\1766758888.py:61: FutureWarning: The frame.append method is deprecated and will be removed from pandas in a future version. Use pandas.concat instead.\n",
      "  final=final.append(df,ignore_index=True)\n",
      "C:\\Users\\vansh\\AppData\\Local\\Temp\\ipykernel_11792\\1766758888.py:61: FutureWarning: The frame.append method is deprecated and will be removed from pandas in a future version. Use pandas.concat instead.\n",
      "  final=final.append(df,ignore_index=True)\n",
      "C:\\Users\\vansh\\AppData\\Local\\Temp\\ipykernel_11792\\1766758888.py:61: FutureWarning: The frame.append method is deprecated and will be removed from pandas in a future version. Use pandas.concat instead.\n",
      "  final=final.append(df,ignore_index=True)\n",
      "C:\\Users\\vansh\\AppData\\Local\\Temp\\ipykernel_11792\\1766758888.py:61: FutureWarning: The frame.append method is deprecated and will be removed from pandas in a future version. Use pandas.concat instead.\n",
      "  final=final.append(df,ignore_index=True)\n"
     ]
    }
   ],
   "source": [
    "final = pd.DataFrame()\n",
    "\n",
    "for j in range(1,501):\n",
    "    \n",
    "    headers = {'User-Agent':'Mozilla/5.0 (Windows NT 6.3; Win 64 ; x64) Apple WeKit /537.36(KHTML , like Gecko) Chrome/80.0.3987.162 Safari/537.36'}\n",
    "    \n",
    "    url = 'https://www.ambitionbox.com/list-of-companies?campaign=desktop_nav&page={}'.format(j)\n",
    "    \n",
    "    webpage = requests.get( url, headers=headers).text\n",
    "    \n",
    "    soup = BeautifulSoup(webpage,'lxml')\n",
    "    \n",
    "    company = soup.find_all('div',class_='companyCardWrapper')\n",
    "    \n",
    "    name = []\n",
    "    rating = []\n",
    "    year = []\n",
    "    loc = []\n",
    "    about = []\n",
    "    emp = []\n",
    "    review = []\n",
    "\n",
    "    for i in company:\n",
    "\n",
    "        name.append(i.find('h2').text.strip())\n",
    "        rating.append(i.find('span',class_='companyCardWrapper__companyRatingValue').text.strip())\n",
    "        #year.append(i.find('span',class_='companyCardWrapper__interLinking').text.strip().split('|')[-2].replace('years old',''))\n",
    "        \n",
    "        try:\n",
    "            year.append(i.find('span',class_='companyCardWrapper__interLinking').text.strip().split('|')[-2].replace('years old',''))\n",
    "\n",
    "        except:\n",
    "            year.append(np.nan)\n",
    "        \n",
    "        loc.append(i.find('span',class_='companyCardWrapper__interLinking').text.strip().split('|')[-1].replace(' more',''))\n",
    "        about.append(i.find('span',class_='companyCardWrapper__interLinking').text.strip().split('|')[-0])\n",
    "        #emp.append(i.find('span',class_='companyCardWrapper__interLinking').text.strip().split('|')[1].replace(' Employees ',''))\n",
    "        \n",
    "        try:\n",
    "            emp.append(i.find('span',class_='companyCardWrapper__interLinking').text.strip().split('|')[1].replace(' Employees ',''))\n",
    "        \n",
    "        except:\n",
    "            emp.append(np.nan)\n",
    "        \n",
    "        review.append(i.find('span',class_='companyCardWrapper__ActionCount').text.strip().replace('k',' ').strip())\n",
    "\n",
    "\n",
    "    d = {\n",
    "        'Name': name,\n",
    "        'Rating': rating,\n",
    "        'Years': year,\n",
    "        'Locaton': loc,\n",
    "        'No of Employee': emp,\n",
    "        'About':about,\n",
    "        'Review(K)': review\n",
    "    }\n",
    "\n",
    "\n",
    "    df = pd.DataFrame(d)\n",
    "    \n",
    "    final=final.append(df,ignore_index=True)\n",
    "    "
   ]
  },
  {
   "cell_type": "code",
   "execution_count": null,
   "id": "ba9ed85d",
   "metadata": {},
   "outputs": [],
   "source": [
    "final.shape"
   ]
  },
  {
   "cell_type": "code",
   "execution_count": null,
   "id": "2546a6ef",
   "metadata": {},
   "outputs": [],
   "source": [
    "final"
   ]
  },
  {
   "cell_type": "code",
   "execution_count": null,
   "id": "e242fbea",
   "metadata": {},
   "outputs": [],
   "source": [
    "final.to_csv('ambitionbox-500-companies-dataset.csv')"
   ]
  },
  {
   "cell_type": "code",
   "execution_count": null,
   "id": "5a7d416b",
   "metadata": {},
   "outputs": [],
   "source": []
  },
  {
   "cell_type": "code",
   "execution_count": null,
   "id": "8fbc90bc",
   "metadata": {},
   "outputs": [],
   "source": []
  },
  {
   "cell_type": "markdown",
   "id": "cbcdc587",
   "metadata": {},
   "source": [
    "# name"
   ]
  },
  {
   "cell_type": "code",
   "execution_count": null,
   "id": "5b910bcd",
   "metadata": {},
   "outputs": [],
   "source": [
    "for i in soup.find_all('h2',class_= 'companyCardWrapper__companyName'):\n",
    "    print(i.text.strip())"
   ]
  },
  {
   "cell_type": "markdown",
   "id": "f486331b",
   "metadata": {},
   "source": [
    "# rating"
   ]
  },
  {
   "cell_type": "code",
   "execution_count": null,
   "id": "18a8c210",
   "metadata": {
    "scrolled": true
   },
   "outputs": [],
   "source": [
    "for i in soup.find_all('span',class_= 'companyCardWrapper__companyRatingValue'):\n",
    "    print(i.text)"
   ]
  },
  {
   "cell_type": "code",
   "execution_count": null,
   "id": "737da8ba",
   "metadata": {},
   "outputs": [],
   "source": [
    "for i in soup.find('div',class_ = 'companyCardWrapper__tertiaryInformation').find('span',class_='companyCardWrapper__ActionCount'):\n",
    "    print(i.text)"
   ]
  },
  {
   "cell_type": "markdown",
   "id": "395deae3",
   "metadata": {},
   "source": [
    "# review"
   ]
  },
  {
   "cell_type": "code",
   "execution_count": null,
   "id": "151d2dc8",
   "metadata": {},
   "outputs": [],
   "source": [
    "r =[]\n",
    "for i in soup.find_all('span',class_= 'companyCardWrapper__ActionCount'):\n",
    "    for j in i:\n",
    "        ans = j.text\n",
    "        r.append(ans)\n",
    "print(r[::6])"
   ]
  },
  {
   "cell_type": "markdown",
   "id": "ef435886",
   "metadata": {},
   "source": [
    "# year"
   ]
  },
  {
   "cell_type": "code",
   "execution_count": null,
   "id": "340db13e",
   "metadata": {},
   "outputs": [],
   "source": [
    "for i in soup.find_all('span',class_='companyCardWrapper__interLinking'):\n",
    "    for j in i :\n",
    "        print(j.text.strip().split('|')[-2].replace(' years old ',''))\n",
    "        "
   ]
  },
  {
   "cell_type": "code",
   "execution_count": null,
   "id": "43400514",
   "metadata": {},
   "outputs": [],
   "source": [
    "#len(year)"
   ]
  },
  {
   "cell_type": "markdown",
   "id": "09a03514",
   "metadata": {},
   "source": [
    "# location"
   ]
  },
  {
   "cell_type": "code",
   "execution_count": null,
   "id": "77225dc2",
   "metadata": {},
   "outputs": [],
   "source": [
    "for i in soup.find_all('span',class_='companyCardWrapper__interLinking'):\n",
    "    for j in i :\n",
    "        print(j.text.strip().split('|')[-1].replace(' more',''))\n",
    "        "
   ]
  },
  {
   "cell_type": "markdown",
   "id": "9338a9bd",
   "metadata": {},
   "source": [
    " # about/"
   ]
  },
  {
   "cell_type": "code",
   "execution_count": null,
   "id": "6b066430",
   "metadata": {},
   "outputs": [],
   "source": [
    "for i in soup.find_all('span',class_='companyCardWrapper__interLinking'):\n",
    "    print(i.text.strip().split('|')[0])"
   ]
  },
  {
   "cell_type": "markdown",
   "id": "e421a594",
   "metadata": {},
   "source": [
    "Now ignore above part \n",
    "i can also extract whole 1 contener"
   ]
  },
  {
   "cell_type": "code",
   "execution_count": null,
   "id": "264ede3d",
   "metadata": {},
   "outputs": [],
   "source": []
  }
 ],
 "metadata": {
  "kernelspec": {
   "display_name": "Python 3 (ipykernel)",
   "language": "python",
   "name": "python3"
  },
  "language_info": {
   "codemirror_mode": {
    "name": "ipython",
    "version": 3
   },
   "file_extension": ".py",
   "mimetype": "text/x-python",
   "name": "python",
   "nbconvert_exporter": "python",
   "pygments_lexer": "ipython3",
   "version": "3.10.9"
  }
 },
 "nbformat": 4,
 "nbformat_minor": 5
}
